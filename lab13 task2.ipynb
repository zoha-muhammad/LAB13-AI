{
 "cells": [
  {
   "cell_type": "code",
   "execution_count": null,
   "id": "ed536dfe-6d2b-4587-9b16-ce1031a979ed",
   "metadata": {},
   "outputs": [],
   "source": []
  }
 ],
 "metadata": {
  "kernelspec": {
   "display_name": "",
   "name": ""
  },
  "language_info": {
   "name": ""
  }
 },
 "nbformat": 4,
 "nbformat_minor": 5
}
